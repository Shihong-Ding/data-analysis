{
 "cells": [
  {
   "cell_type": "code",
   "execution_count": 12,
   "id": "c01304fc",
   "metadata": {},
   "outputs": [],
   "source": [
    "import numpy as np"
   ]
  },
  {
   "cell_type": "code",
   "execution_count": 13,
   "id": "9afd8389",
   "metadata": {},
   "outputs": [],
   "source": [
    "# Part I\n",
    "f = lambda x: x*np.sin(3*x)-np.exp(x)\n",
    "df = lambda x: 3*x*np.cos(3*x)+np.sin(3*x)-np.exp(x)"
   ]
  },
  {
   "cell_type": "code",
   "execution_count": 26,
   "id": "faaf3c58",
   "metadata": {},
   "outputs": [
    {
     "name": "stdout",
     "output_type": "stream",
     "text": [
      "12\n"
     ]
    }
   ],
   "source": [
    "# Newton-Raphson method\n",
    "x1 = -1.6\n",
    "x_n = x1\n",
    "A1 = []\n",
    "count_newton = 0\n",
    "\n",
    "for j in range(1000):\n",
    "    A1.append(x_n)\n",
    "    x_n = x_n - (f(x_n)/df(x_n))\n",
    "    count_newton += 1\n",
    "    if(abs(f(A1[j])) < 10**-6):\n",
    "        break\n",
    "A1.append(x_n)\n",
    "A3 = [count_newton]"
   ]
  },
  {
   "cell_type": "code",
   "execution_count": 21,
   "id": "c4e77a4d",
   "metadata": {},
   "outputs": [
    {
     "name": "stdout",
     "output_type": "stream",
     "text": [
      "[11, 17]\n"
     ]
    }
   ],
   "source": [
    "# Bisection method\n",
    "xa = -0.7\n",
    "xb = -0.4\n",
    "xmid = (xa+xb)/2\n",
    "count_bisection = 1\n",
    "A2 = []\n",
    "\n",
    "while abs(f(xmid)) > 10**-6:\n",
    "    A2.append(xmid)\n",
    "    if f(xmid) < 0:\n",
    "        xb = xmid\n",
    "    else:\n",
    "        xa = xmid\n",
    "    xmid = (xa+xb)/2\n",
    "    count_bisection += 1\n",
    "\n",
    "A2.append(xmid)\n",
    "A3.append(count_bisection)\n",
    "print(A3)"
   ]
  },
  {
   "cell_type": "code",
   "execution_count": 7,
   "id": "af290ebb",
   "metadata": {},
   "outputs": [],
   "source": [
    "# Part II\n",
    "A = np.array([[1, 2], [-1, 1]])\n",
    "B = np.array([[2, 0], [0, 2]])\n",
    "C = np.array([[2, 0, -3], [0, 0, -1]])\n",
    "D = np.array([[1, 2], [2, 3], [-1, 0]])\n",
    "x = np.array([1, 0])\n",
    "y = np.array([0, 1])\n",
    "z = np.array([1, 2, -1])\n",
    "\n",
    "A4 = A+B\n",
    "A5 = 3*x -4*y\n",
    "A6 = A@x\n",
    "A7 = B@(x-y)\n",
    "A8 = D@x\n",
    "A9 = D@y+z\n",
    "A10 = A@B\n",
    "A11 = B@C\n",
    "A12 = C@D"
   ]
  }
 ],
 "metadata": {
  "kernelspec": {
   "display_name": "Python 3 (ipykernel)",
   "language": "python",
   "name": "python3"
  },
  "language_info": {
   "codemirror_mode": {
    "name": "ipython",
    "version": 3
   },
   "file_extension": ".py",
   "mimetype": "text/x-python",
   "name": "python",
   "nbconvert_exporter": "python",
   "pygments_lexer": "ipython3",
   "version": "3.9.13"
  }
 },
 "nbformat": 4,
 "nbformat_minor": 5
}
